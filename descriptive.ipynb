{
 "cells": [
  {
   "cell_type": "code",
   "execution_count": 1,
   "metadata": {},
   "outputs": [],
   "source": [
    "import pandas as pd\n",
    "from scripts import helper"
   ]
  },
  {
   "cell_type": "code",
   "execution_count": 12,
   "metadata": {},
   "outputs": [
    {
     "name": "stdout",
     "output_type": "stream",
     "text": [
      "<class 'pandas.core.frame.DataFrame'>\n",
      "RangeIndex: 209 entries, 0 to 208\n",
      "Data columns (total 13 columns):\n",
      " #   Column              Non-Null Count  Dtype  \n",
      "---  ------              --------------  -----  \n",
      " 0   Unnamed: 0          209 non-null    int64  \n",
      " 1   name                209 non-null    object \n",
      " 2   latin_name          209 non-null    object \n",
      " 3   temperature         209 non-null    object \n",
      " 4   length              209 non-null    float64\n",
      " 5   location            209 non-null    object \n",
      " 6   food                209 non-null    object \n",
      " 7   kryjowka_info       209 non-null    object \n",
      " 8   breeding_info       209 non-null    object \n",
      " 9   Lowest_temperature  209 non-null    int64  \n",
      " 10  Top_temperature     209 non-null    int64  \n",
      " 11  food_separator      152 non-null    object \n",
      " 12  image_path          56 non-null     object \n",
      "dtypes: float64(1), int64(3), object(9)\n",
      "memory usage: 21.4+ KB\n"
     ]
    }
   ],
   "source": [
    "df = pd.read_csv('data/processed_rybki_final.csv')\n",
    "df.info()"
   ]
  },
  {
   "cell_type": "code",
   "execution_count": 13,
   "metadata": {},
   "outputs": [
    {
     "data": {
      "text/plain": [
       "Unnamed: 0                             0\n",
       "name                       Gupik Endlera\n",
       "latin_name              Poecilia wingei \n",
       "temperature               images/hot.png\n",
       "length                               4.0\n",
       "location                    Ameryka Płd.\n",
       "food                  ['suchy', 'suchy']\n",
       "kryjowka_info                      domek\n",
       "breeding_info                  żyworodne\n",
       "Lowest_temperature                    22\n",
       "Top_temperature                       30\n",
       "food_separator                         +\n",
       "image_path              GupikEndlera.png\n",
       "Name: 0, dtype: object"
      ]
     },
     "execution_count": 13,
     "metadata": {},
     "output_type": "execute_result"
    }
   ],
   "source": [
    "df.loc[0]"
   ]
  },
  {
   "cell_type": "code",
   "execution_count": 6,
   "metadata": {},
   "outputs": [],
   "source": []
  },
  {
   "cell_type": "code",
   "execution_count": 10,
   "metadata": {},
   "outputs": [
    {
     "name": "stdout",
     "output_type": "stream",
     "text": [
      "<class 'pandas.core.series.Series'>\n",
      "RangeIndex: 209 entries, 0 to 208\n",
      "Series name: length\n",
      "Non-Null Count  Dtype \n",
      "--------------  ----- \n",
      "209 non-null    object\n",
      "dtypes: object(1)\n",
      "memory usage: 1.8+ KB\n"
     ]
    }
   ],
   "source": []
  },
  {
   "cell_type": "code",
   "execution_count": null,
   "metadata": {},
   "outputs": [],
   "source": []
  }
 ],
 "metadata": {
  "kernelspec": {
   "display_name": "Python 3",
   "language": "python",
   "name": "python3"
  },
  "language_info": {
   "codemirror_mode": {
    "name": "ipython",
    "version": 3
   },
   "file_extension": ".py",
   "mimetype": "text/x-python",
   "name": "python",
   "nbconvert_exporter": "python",
   "pygments_lexer": "ipython3",
   "version": "3.11.7"
  }
 },
 "nbformat": 4,
 "nbformat_minor": 2
}
